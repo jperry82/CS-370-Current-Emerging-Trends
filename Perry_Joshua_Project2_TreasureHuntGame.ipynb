{
 "cells": [
  {
   "cell_type": "markdown",
   "metadata": {},
   "source": [
    "# Treasure Hunt Game Notebook\n",
    "\n",
    "## Read and Review Your Starter Code\n",
    "The theme of this project is a popular treasure hunt game in which the player needs to find the treasure before the pirate does. While you will not be developing the entire game, you will write the part of the game that represents the intelligent agent, which is a pirate in this case. The pirate will try to find the optimal path to the treasure using deep Q-learning. \n",
    "\n",
    "You have been provided with two Python classes and this notebook to help you with this assignment. The first class, TreasureMaze.py, represents the environment, which includes a maze object defined as a matrix. The second class, GameExperience.py, stores the episodes – that is, all the states that come in between the initial state and the terminal state. This is later used by the agent for learning by experience, called \"exploration\". This notebook shows how to play a game. Your task is to complete the deep Q-learning implementation for which a skeleton implementation has been provided. The code blocks you will need to complete has #TODO as a header.\n",
    "\n",
    "First, read and review the next few code and instruction blocks to understand the code that you have been given."
   ]
  },
  {
   "cell_type": "code",
   "execution_count": 1,
   "metadata": {},
   "outputs": [
    {
     "name": "stderr",
     "output_type": "stream",
     "text": [
      "Using TensorFlow backend.\n"
     ]
    }
   ],
   "source": [
    "from __future__ import print_function\n",
    "import os, sys, time, datetime, json, random\n",
    "import numpy as np\n",
    "from keras.models import Sequential\n",
    "from keras.layers.core import Dense, Activation\n",
    "from keras.optimizers import SGD , Adam, RMSprop\n",
    "from keras.layers.advanced_activations import PReLU\n",
    "import matplotlib.pyplot as plt\n",
    "from TreasureMaze import TreasureMaze\n",
    "from GameExperience import GameExperience\n",
    "%matplotlib inline"
   ]
  },
  {
   "cell_type": "markdown",
   "metadata": {},
   "source": [
    "The following code block contains an 8x8 matrix that will be used as a maze object:"
   ]
  },
  {
   "cell_type": "code",
   "execution_count": 2,
   "metadata": {},
   "outputs": [],
   "source": [
    "maze = np.array([\n",
    "    [ 1.,  0.,  1.,  1.,  1.,  1.,  1.,  1.],\n",
    "    [ 1.,  0.,  1.,  1.,  1.,  0.,  1.,  1.],\n",
    "    [ 1.,  1.,  1.,  1.,  0.,  1.,  0.,  1.],\n",
    "    [ 1.,  1.,  1.,  0.,  1.,  1.,  1.,  1.],\n",
    "    [ 1.,  1.,  0.,  1.,  1.,  1.,  1.,  1.],\n",
    "    [ 1.,  1.,  1.,  0.,  1.,  0.,  0.,  0.],\n",
    "    [ 1.,  1.,  1.,  0.,  1.,  1.,  1.,  1.],\n",
    "    [ 1.,  1.,  1.,  1.,  0.,  1.,  1.,  1.]\n",
    "])"
   ]
  },
  {
   "cell_type": "markdown",
   "metadata": {},
   "source": [
    "This helper function allows a visual representation of the maze object:"
   ]
  },
  {
   "cell_type": "code",
   "execution_count": 3,
   "metadata": {},
   "outputs": [],
   "source": [
    "def show(qmaze):\n",
    "    plt.grid('on')\n",
    "    nrows, ncols = qmaze.maze.shape\n",
    "    ax = plt.gca()\n",
    "    ax.set_xticks(np.arange(0.5, nrows, 1))\n",
    "    ax.set_yticks(np.arange(0.5, ncols, 1))\n",
    "    ax.set_xticklabels([])\n",
    "    ax.set_yticklabels([])\n",
    "    canvas = np.copy(qmaze.maze)\n",
    "    for row,col in qmaze.visited:\n",
    "        canvas[row,col] = 0.6\n",
    "    pirate_row, pirate_col, _ = qmaze.state\n",
    "    canvas[pirate_row, pirate_col] = 0.3   # pirate cell\n",
    "    canvas[nrows-1, ncols-1] = 0.9 # treasure cell\n",
    "    img = plt.imshow(canvas, interpolation='none', cmap='gray')\n",
    "    return img"
   ]
  },
  {
   "cell_type": "markdown",
   "metadata": {},
   "source": [
    "The pirate agent can move in four directions: left, right, up, and down. \n",
    "\n",
    "While the agent primarily learns by experience through exploitation, often, the agent can choose to explore the environment to find previously undiscovered paths. This is called \"exploration\" and is defined by epsilon. This value is typically a lower value such as 0.1, which means for every ten attempts, the agent will attempt to learn by experience nine times and will randomly explore a new path one time. You are encouraged to try various values for the exploration factor and see how the algorithm performs."
   ]
  },
  {
   "cell_type": "code",
   "execution_count": 4,
   "metadata": {},
   "outputs": [],
   "source": [
    "LEFT = 0\n",
    "UP = 1\n",
    "RIGHT = 2\n",
    "DOWN = 3\n",
    "\n",
    "\n",
    "# Exploration factor\n",
    "epsilon = 0.1\n",
    "\n",
    "# Actions dictionary\n",
    "actions_dict = {\n",
    "    LEFT: 'left',\n",
    "    UP: 'up',\n",
    "    RIGHT: 'right',\n",
    "    DOWN: 'down',\n",
    "}\n",
    "\n",
    "num_actions = len(actions_dict)\n"
   ]
  },
  {
   "cell_type": "markdown",
   "metadata": {},
   "source": [
    "The sample code block and output below show creating a maze object and performing one action (DOWN), which returns the reward. The resulting updated environment is visualized."
   ]
  },
  {
   "cell_type": "code",
   "execution_count": 5,
   "metadata": {},
   "outputs": [
    {
     "name": "stdout",
     "output_type": "stream",
     "text": [
      "reward= -0.04\n"
     ]
    },
    {
     "data": {
      "text/plain": [
       "<matplotlib.image.AxesImage at 0x1c8780246c8>"
      ]
     },
     "execution_count": 5,
     "metadata": {},
     "output_type": "execute_result"
    },
    {
     "data": {
      "image/png": "[encoded data removed]",
      "text/plain": [
       "<Figure size 432x288 with 1 Axes>"
      ]
     },
     "metadata": {
      "needs_background": "light"
     },
     "output_type": "display_data"
    }
   ],
   "source": [
    "qmaze = TreasureMaze(maze)\n",
    "canvas, reward, game_over = qmaze.act(DOWN)\n",
    "print(\"reward=\", reward)\n",
    "show(qmaze)"
   ]
  },
  {
   "cell_type": "markdown",
   "metadata": {},
   "source": [
    "This function simulates a full game based on the provided trained model. The other parameters include the TreasureMaze object and the starting position of the pirate."
   ]
  },
  {
   "cell_type": "code",
   "execution_count": 6,
   "metadata": {},
   "outputs": [],
   "source": [
    "def play_game(model, qmaze, pirate_cell):\n",
    "    qmaze.reset(pirate_cell)\n",
    "    envstate = qmaze.observe()\n",
    "    while True:\n",
    "        prev_envstate = envstate\n",
    "        # get next action\n",
    "        q = model.predict(prev_envstate)\n",
    "        action = np.argmax(q[0])\n",
    "\n",
    "        # apply action, get rewards and new state\n",
    "        envstate, reward, game_status = qmaze.act(action)\n",
    "        if game_status == 'win':\n",
    "            return True\n",
    "        elif game_status == 'lose':\n",
    "            return False"
   ]
  },
  {
   "cell_type": "markdown",
   "metadata": {},
   "source": [
    "This function helps you to determine whether the pirate can win any game at all. If your maze is not well designed, the pirate may not win any game at all. In this case, your training would not yield any result. The provided maze in this notebook ensures that there is a path to win and you can run this method to check."
   ]
  },
  {
   "cell_type": "code",
   "execution_count": 7,
   "metadata": {},
   "outputs": [],
   "source": [
    "def completion_check(model, qmaze):\n",
    "    for cell in qmaze.free_cells:\n",
    "        if not qmaze.valid_actions(cell):\n",
    "            return False\n",
    "        if not play_game(model, qmaze, cell):\n",
    "            return False\n",
    "    return True"
   ]
  },
  {
   "cell_type": "markdown",
   "metadata": {},
   "source": [
    "The code you have been given in this block will build the neural network model. Review the code and note the number of layers, as well as the activation, optimizer, and loss functions that are used to train the model."
   ]
  },
  {
   "cell_type": "code",
   "execution_count": 8,
   "metadata": {},
   "outputs": [],
   "source": [
    "def build_model(maze):\n",
    "    model = Sequential()\n",
    "    model.add(Dense(maze.size, input_shape=(maze.size,)))\n",
    "    model.add(PReLU())\n",
    "    model.add(Dense(maze.size))\n",
    "    model.add(PReLU())\n",
    "    model.add(Dense(num_actions))\n",
    "    model.compile(optimizer='adam', loss='mse')\n",
    "    return model"
   ]
  },
  {
   "cell_type": "markdown",
   "metadata": {},
   "source": [
    "# #TODO: Complete the Q-Training Algorithm Code Block\n",
    "\n",
    "This is your deep Q-learning implementation. The goal of your deep Q-learning implementation is to find the best possible navigation sequence that results in reaching the treasure cell while maximizing the reward. In your implementation, you need to determine the optimal number of epochs to achieve a 100% win rate.\n",
    "\n",
    "You will need to complete the section starting with #pseudocode. The pseudocode has been included for you."
   ]
  },
  {
   "cell_type": "code",
   "execution_count": 9,
   "metadata": {},
   "outputs": [],
   "source": [
    "def qtrain(model, maze, **opt):\n",
    "\n",
    "    # exploration factor\n",
    "    global epsilon \n",
    "\n",
    "    # number of epochs\n",
    "    n_epoch = opt.get('n_epoch', 15000)\n",
    "\n",
    "    # maximum memory to store episodes\n",
    "    max_memory = opt.get('max_memory', 1000)\n",
    "\n",
    "    # maximum data size for training\n",
    "    data_size = opt.get('data_size', 50)\n",
    "\n",
    "    # start time\n",
    "    start_time = datetime.datetime.now()\n",
    "\n",
    "    # Construct environment/game from numpy array: maze (see above)\n",
    "    qmaze = TreasureMaze(maze)\n",
    "\n",
    "    # Initialize experience replay object\n",
    "    experience = GameExperience(model, max_memory=max_memory)\n",
    "    \n",
    "    win_history = []   # history of win/lose game\n",
    "    hsize = qmaze.maze.size // 2   # history window size\n",
    "    win_rate = 0.0\n",
    "    \n",
    "    for epoch in range(n_epoch):\n",
    "        # Randomly select an agent's starting position\n",
    "        agent_cell = random.choice(qmaze.free_cells)\n",
    "        qmaze.reset(agent_cell)\n",
    "        \n",
    "        # Get the initial state of the environment\n",
    "        envstate = qmaze.observe()\n",
    "\n",
    "        n_episodes = 0  # Keep track of the number of episodes\n",
    "\n",
    "        while True:\n",
    "            prev_envstate = envstate  # Save previous state\n",
    "\n",
    "            # Exploration or exploitation\n",
    "            if np.random.rand() < epsilon:\n",
    "                action = np.random.randint(0, num_actions)  # Explore: random action\n",
    "            else:\n",
    "                q_values = model.predict(prev_envstate)  # Exploit: best action based on Q-values\n",
    "                action = np.argmax(q_values[0])\n",
    "\n",
    "            # Apply the action, get the reward and new environment state\n",
    "            envstate, reward, game_status = qmaze.act(action)\n",
    "\n",
    "            # Store the episode in memory (experience replay)\n",
    "            episode = [prev_envstate, action, reward, envstate, game_status]\n",
    "            experience.remember(episode)\n",
    "\n",
    "            # End the episode if the game is over\n",
    "            if game_status == 'win':\n",
    "                win_history.append(1)\n",
    "                break\n",
    "            elif game_status == 'lose':\n",
    "                win_history.append(0)\n",
    "                break\n",
    "\n",
    "            n_episodes += 1  # Increment episode count\n",
    "\n",
    "            # Train the model using experience replay\n",
    "            inputs, targets = experience.get_data(data_size=data_size)\n",
    "            loss = model.train_on_batch(inputs, targets)\n",
    "\n",
    "        # Calculate win rate from the last hsize episodes\n",
    "        if len(win_history) > hsize:\n",
    "            win_rate = sum(win_history[-hsize:]) / hsize\n",
    "\n",
    "        # Print out the progress of the training\n",
    "        dt = datetime.datetime.now() - start_time\n",
    "        t = format_time(dt.total_seconds())\n",
    "        print(f\"Epoch: {epoch+1}/{n_epoch} | Loss: {loss:.4f} | Episodes: {n_episodes} | Win rate: {win_rate:.3f} | Time: {t}\")\n",
    "\n",
    "        # Adjust epsilon based on performance\n",
    "        if win_rate > 0.9:\n",
    "            epsilon = 0.05\n",
    "\n",
    "        # Stop the training if win rate is perfect for all cells\n",
    "        if sum(win_history[-hsize:]) == hsize and completion_check(model, qmaze):\n",
    "            print(f\"Reached 100% win rate at epoch {epoch+1}\")\n",
    "            break\n",
    "    \n",
    "    # Determine the total time for training\n",
    "    dt = datetime.datetime.now() - start_time\n",
    "    seconds = dt.total_seconds()\n",
    "    print(f\"Training completed in: {format_time(seconds)}\")\n",
    "    \n",
    "    return seconds\n",
    "\n",
    "# This is a small utility for printing readable time strings:\n",
    "def format_time(seconds):\n",
    "    if seconds < 400:\n",
    "        s = float(seconds)\n",
    "        return \"%.1f seconds\" % (s,)\n",
    "    elif seconds < 4000:\n",
    "        m = seconds / 60.0\n",
    "        return \"%.2f minutes\" % (m,)\n",
    "    else:\n",
    "        h = seconds / 3600.0\n",
    "        return \"%.2f hours\" % (h,)\n"
   ]
  },
  {
   "cell_type": "markdown",
   "metadata": {},
   "source": [
    "## Test Your Model\n",
    "\n",
    "Now we will start testing the deep Q-learning implementation. To begin, select **Cell**, then **Run All** from the menu bar. This will run your notebook. As it runs, you should see output begin to appear beneath the next few cells. The code below creates an instance of TreasureMaze."
   ]
  },
  {
   "cell_type": "code",
   "execution_count": 10,
   "metadata": {},
   "outputs": [
    {
     "data": {
      "text/plain": [
       "<matplotlib.image.AxesImage at 0x1c878097288>"
      ]
     },
     "execution_count": 10,
     "metadata": {},
     "output_type": "execute_result"
    },
    {
     "data": {
      "image/png": "[encoded data removed]",
      "text/plain": [
       "<Figure size 432x288 with 1 Axes>"
      ]
     },
     "metadata": {
      "needs_background": "light"
     },
     "output_type": "display_data"
    }
   ],
   "source": [
    "qmaze = TreasureMaze(maze)\n",
    "show(qmaze)"
   ]
  },
  {
   "cell_type": "markdown",
   "metadata": {},
   "source": [
    "In the next code block, you will build your model and train it using deep Q-learning. Note: This step takes several minutes to fully run."
   ]
  },
  {
   "cell_type": "code",
   "execution_count": 11,
   "metadata": {},
   "outputs": [
    {
     "name": "stdout",
     "output_type": "stream",
     "text": [
      "Epoch: 1/15000 | Loss: 0.0080 | Episodes: 4 | Win rate: 0.000 | Time: 2.2 seconds\n",
      "Epoch: 2/15000 | Loss: 0.0009 | Episodes: 134 | Win rate: 0.000 | Time: 12.8 seconds\n",
      "Epoch: 3/15000 | Loss: 0.0006 | Episodes: 142 | Win rate: 0.000 | Time: 23.9 seconds\n",
      "Epoch: 4/15000 | Loss: 0.0009 | Episodes: 143 | Win rate: 0.000 | Time: 34.8 seconds\n",
      "Epoch: 5/15000 | Loss: 0.0010 | Episodes: 139 | Win rate: 0.000 | Time: 46.2 seconds\n",
      "Epoch: 6/15000 | Loss: 0.0016 | Episodes: 134 | Win rate: 0.000 | Time: 58.9 seconds\n",
      "Epoch: 7/15000 | Loss: 0.0007 | Episodes: 132 | Win rate: 0.000 | Time: 70.7 seconds\n",
      "Epoch: 8/15000 | Loss: 0.0006 | Episodes: 137 | Win rate: 0.000 | Time: 82.8 seconds\n",
      "Epoch: 9/15000 | Loss: 0.0012 | Episodes: 136 | Win rate: 0.000 | Time: 94.7 seconds\n",
      "Epoch: 10/15000 | Loss: 0.0002 | Episodes: 132 | Win rate: 0.000 | Time: 105.6 seconds\n",
      "Epoch: 11/15000 | Loss: 0.0002 | Episodes: 1 | Win rate: 0.000 | Time: 105.7 seconds\n",
      "Epoch: 12/15000 | Loss: 0.0012 | Episodes: 1 | Win rate: 0.000 | Time: 105.8 seconds\n",
      "Epoch: 13/15000 | Loss: 0.0083 | Episodes: 135 | Win rate: 0.000 | Time: 116.9 seconds\n",
      "Epoch: 14/15000 | Loss: 0.0001 | Episodes: 125 | Win rate: 0.000 | Time: 127.4 seconds\n",
      "Epoch: 15/15000 | Loss: 0.0018 | Episodes: 123 | Win rate: 0.000 | Time: 138.9 seconds\n",
      "Epoch: 16/15000 | Loss: 0.0018 | Episodes: 2 | Win rate: 0.000 | Time: 139.1 seconds\n",
      "Epoch: 17/15000 | Loss: 0.0018 | Episodes: 134 | Win rate: 0.000 | Time: 151.2 seconds\n",
      "Epoch: 18/15000 | Loss: 0.0018 | Episodes: 139 | Win rate: 0.000 | Time: 163.0 seconds\n",
      "Epoch: 19/15000 | Loss: 0.0013 | Episodes: 40 | Win rate: 0.000 | Time: 166.5 seconds\n",
      "Epoch: 20/15000 | Loss: 0.0023 | Episodes: 60 | Win rate: 0.000 | Time: 171.8 seconds\n",
      "Epoch: 21/15000 | Loss: 0.0005 | Episodes: 139 | Win rate: 0.000 | Time: 183.5 seconds\n",
      "Epoch: 22/15000 | Loss: 0.0005 | Episodes: 0 | Win rate: 0.000 | Time: 183.5 seconds\n",
      "Epoch: 23/15000 | Loss: 0.0012 | Episodes: 5 | Win rate: 0.000 | Time: 183.8 seconds\n",
      "Epoch: 24/15000 | Loss: 0.0015 | Episodes: 147 | Win rate: 0.000 | Time: 196.7 seconds\n",
      "Epoch: 25/15000 | Loss: 0.0007 | Episodes: 142 | Win rate: 0.000 | Time: 210.8 seconds\n",
      "Epoch: 26/15000 | Loss: 0.0016 | Episodes: 21 | Win rate: 0.000 | Time: 212.8 seconds\n",
      "Epoch: 27/15000 | Loss: 0.0016 | Episodes: 47 | Win rate: 0.000 | Time: 217.1 seconds\n",
      "Epoch: 28/15000 | Loss: 0.0026 | Episodes: 78 | Win rate: 0.000 | Time: 225.2 seconds\n",
      "Epoch: 29/15000 | Loss: 0.0015 | Episodes: 60 | Win rate: 0.000 | Time: 231.7 seconds\n",
      "Epoch: 30/15000 | Loss: 0.0016 | Episodes: 22 | Win rate: 0.000 | Time: 235.0 seconds\n",
      "Epoch: 31/15000 | Loss: 0.0024 | Episodes: 53 | Win rate: 0.000 | Time: 241.0 seconds\n",
      "Epoch: 32/15000 | Loss: 0.0015 | Episodes: 137 | Win rate: 0.000 | Time: 254.9 seconds\n",
      "Epoch: 33/15000 | Loss: 0.0015 | Episodes: 57 | Win rate: 0.531 | Time: 259.9 seconds\n",
      "Epoch: 34/15000 | Loss: 0.0019 | Episodes: 3 | Win rate: 0.562 | Time: 260.2 seconds\n",
      "Epoch: 35/15000 | Loss: 0.0007 | Episodes: 137 | Win rate: 0.562 | Time: 276.4 seconds\n",
      "Epoch: 36/15000 | Loss: 0.0009 | Episodes: 16 | Win rate: 0.594 | Time: 278.6 seconds\n",
      "Epoch: 37/15000 | Loss: 0.0011 | Episodes: 137 | Win rate: 0.594 | Time: 294.1 seconds\n",
      "Epoch: 38/15000 | Loss: 0.0013 | Episodes: 132 | Win rate: 0.625 | Time: 306.1 seconds\n",
      "Epoch: 39/15000 | Loss: 0.0008 | Episodes: 143 | Win rate: 0.656 | Time: 318.1 seconds\n",
      "Epoch: 40/15000 | Loss: 0.0016 | Episodes: 131 | Win rate: 0.688 | Time: 328.9 seconds\n",
      "Epoch: 41/15000 | Loss: 0.0016 | Episodes: 0 | Win rate: 0.719 | Time: 328.9 seconds\n",
      "Epoch: 42/15000 | Loss: 0.0008 | Episodes: 1 | Win rate: 0.750 | Time: 328.9 seconds\n",
      "Epoch: 43/15000 | Loss: 0.0014 | Episodes: 4 | Win rate: 0.750 | Time: 329.2 seconds\n",
      "Epoch: 44/15000 | Loss: 0.0014 | Episodes: 7 | Win rate: 0.750 | Time: 329.9 seconds\n",
      "Epoch: 45/15000 | Loss: 0.0014 | Episodes: 6 | Win rate: 0.781 | Time: 330.3 seconds\n",
      "Epoch: 46/15000 | Loss: 0.0008 | Episodes: 18 | Win rate: 0.781 | Time: 331.9 seconds\n",
      "Epoch: 47/15000 | Loss: 0.0014 | Episodes: 3 | Win rate: 0.781 | Time: 332.1 seconds\n",
      "Epoch: 48/15000 | Loss: 0.0014 | Episodes: 30 | Win rate: 0.781 | Time: 335.0 seconds\n",
      "Epoch: 49/15000 | Loss: 0.0013 | Episodes: 11 | Win rate: 0.812 | Time: 336.0 seconds\n",
      "Epoch: 50/15000 | Loss: 0.0021 | Episodes: 28 | Win rate: 0.844 | Time: 338.3 seconds\n",
      "Epoch: 51/15000 | Loss: 0.0010 | Episodes: 39 | Win rate: 0.844 | Time: 341.6 seconds\n",
      "Epoch: 52/15000 | Loss: 0.0023 | Episodes: 44 | Win rate: 0.844 | Time: 345.6 seconds\n",
      "Epoch: 53/15000 | Loss: 0.0008 | Episodes: 2 | Win rate: 0.875 | Time: 345.8 seconds\n",
      "Epoch: 54/15000 | Loss: 0.0018 | Episodes: 11 | Win rate: 0.875 | Time: 347.0 seconds\n",
      "Epoch: 55/15000 | Loss: 0.0015 | Episodes: 42 | Win rate: 0.875 | Time: 351.1 seconds\n",
      "Epoch: 56/15000 | Loss: 0.0115 | Episodes: 44 | Win rate: 0.906 | Time: 354.9 seconds\n",
      "Epoch: 57/15000 | Loss: 0.0020 | Episodes: 13 | Win rate: 0.938 | Time: 356.1 seconds\n",
      "Epoch: 58/15000 | Loss: 0.0016 | Episodes: 28 | Win rate: 0.938 | Time: 359.1 seconds\n",
      "Epoch: 59/15000 | Loss: 0.0116 | Episodes: 137 | Win rate: 0.906 | Time: 372.9 seconds\n",
      "Epoch: 60/15000 | Loss: 0.0020 | Episodes: 74 | Win rate: 0.906 | Time: 380.1 seconds\n",
      "Epoch: 61/15000 | Loss: 0.0009 | Episodes: 9 | Win rate: 0.906 | Time: 381.0 seconds\n",
      "Epoch: 62/15000 | Loss: 0.0013 | Episodes: 14 | Win rate: 0.906 | Time: 382.2 seconds\n",
      "Epoch: 63/15000 | Loss: 0.0008 | Episodes: 5 | Win rate: 0.906 | Time: 382.8 seconds\n",
      "Epoch: 64/15000 | Loss: 0.0019 | Episodes: 29 | Win rate: 0.906 | Time: 386.0 seconds\n",
      "Epoch: 65/15000 | Loss: 0.0015 | Episodes: 18 | Win rate: 0.906 | Time: 387.7 seconds\n",
      "Epoch: 66/15000 | Loss: 0.0016 | Episodes: 2 | Win rate: 0.906 | Time: 387.9 seconds\n",
      "Epoch: 67/15000 | Loss: 0.0006 | Episodes: 143 | Win rate: 0.906 | Time: 6.69 minutes\n",
      "Epoch: 68/15000 | Loss: 0.0011 | Episodes: 11 | Win rate: 0.906 | Time: 6.71 minutes\n",
      "Epoch: 69/15000 | Loss: 0.0005 | Episodes: 15 | Win rate: 0.938 | Time: 6.74 minutes\n",
      "Epoch: 70/15000 | Loss: 0.0011 | Episodes: 3 | Win rate: 0.938 | Time: 6.75 minutes\n",
      "Epoch: 71/15000 | Loss: 0.0014 | Episodes: 25 | Win rate: 0.938 | Time: 6.78 minutes\n",
      "Epoch: 72/15000 | Loss: 0.0015 | Episodes: 7 | Win rate: 0.938 | Time: 6.79 minutes\n",
      "Epoch: 73/15000 | Loss: 0.0010 | Episodes: 29 | Win rate: 0.938 | Time: 6.84 minutes\n",
      "Epoch: 74/15000 | Loss: 0.0013 | Episodes: 79 | Win rate: 0.938 | Time: 6.95 minutes\n",
      "Epoch: 75/15000 | Loss: 0.0008 | Episodes: 31 | Win rate: 0.938 | Time: 7.00 minutes\n",
      "Epoch: 76/15000 | Loss: 0.0008 | Episodes: 0 | Win rate: 0.938 | Time: 7.00 minutes\n",
      "Epoch: 77/15000 | Loss: 0.0011 | Episodes: 54 | Win rate: 0.938 | Time: 7.08 minutes\n",
      "Epoch: 78/15000 | Loss: 0.0009 | Episodes: 7 | Win rate: 0.938 | Time: 7.09 minutes\n",
      "Epoch: 79/15000 | Loss: 0.0015 | Episodes: 22 | Win rate: 0.938 | Time: 7.13 minutes\n",
      "Epoch: 80/15000 | Loss: 0.0012 | Episodes: 34 | Win rate: 0.938 | Time: 7.19 minutes\n",
      "Epoch: 81/15000 | Loss: 0.0015 | Episodes: 34 | Win rate: 0.938 | Time: 7.24 minutes\n",
      "Epoch: 82/15000 | Loss: 0.0015 | Episodes: 0 | Win rate: 0.938 | Time: 7.24 minutes\n",
      "Epoch: 83/15000 | Loss: 0.0015 | Episodes: 33 | Win rate: 0.938 | Time: 7.30 minutes\n",
      "Epoch: 84/15000 | Loss: 0.0009 | Episodes: 54 | Win rate: 0.938 | Time: 7.40 minutes\n",
      "Epoch: 85/15000 | Loss: 0.0010 | Episodes: 37 | Win rate: 0.938 | Time: 7.47 minutes\n",
      "Epoch: 86/15000 | Loss: 0.0015 | Episodes: 23 | Win rate: 0.938 | Time: 7.50 minutes\n",
      "Epoch: 87/15000 | Loss: 0.0075 | Episodes: 26 | Win rate: 0.938 | Time: 7.54 minutes\n",
      "Epoch: 88/15000 | Loss: 0.0079 | Episodes: 22 | Win rate: 0.938 | Time: 7.58 minutes\n",
      "Epoch: 89/15000 | Loss: 0.0071 | Episodes: 8 | Win rate: 0.938 | Time: 7.60 minutes\n",
      "Epoch: 90/15000 | Loss: 0.0010 | Episodes: 137 | Win rate: 0.906 | Time: 7.85 minutes\n",
      "Epoch: 91/15000 | Loss: 0.0013 | Episodes: 5 | Win rate: 0.938 | Time: 7.86 minutes\n",
      "Epoch: 92/15000 | Loss: 0.0068 | Episodes: 14 | Win rate: 0.938 | Time: 7.88 minutes\n",
      "Epoch: 93/15000 | Loss: 0.0023 | Episodes: 17 | Win rate: 0.938 | Time: 7.91 minutes\n",
      "Epoch: 94/15000 | Loss: 0.0018 | Episodes: 17 | Win rate: 0.938 | Time: 7.94 minutes\n",
      "Epoch: 95/15000 | Loss: 0.0013 | Episodes: 51 | Win rate: 0.938 | Time: 8.02 minutes\n",
      "Epoch: 96/15000 | Loss: 0.0011 | Episodes: 33 | Win rate: 0.938 | Time: 8.07 minutes\n",
      "Epoch: 97/15000 | Loss: 0.0014 | Episodes: 21 | Win rate: 0.938 | Time: 8.11 minutes\n",
      "Epoch: 98/15000 | Loss: 0.0016 | Episodes: 12 | Win rate: 0.938 | Time: 8.14 minutes\n",
      "Epoch: 99/15000 | Loss: 0.0007 | Episodes: 12 | Win rate: 0.969 | Time: 8.16 minutes\n",
      "Epoch: 100/15000 | Loss: 0.0009 | Episodes: 14 | Win rate: 0.969 | Time: 8.19 minutes\n",
      "Epoch: 101/15000 | Loss: 0.0011 | Episodes: 12 | Win rate: 0.969 | Time: 8.21 minutes\n",
      "Epoch: 102/15000 | Loss: 0.0016 | Episodes: 24 | Win rate: 0.969 | Time: 8.25 minutes\n",
      "Epoch: 103/15000 | Loss: 0.0008 | Episodes: 40 | Win rate: 0.969 | Time: 8.32 minutes\n",
      "Epoch: 104/15000 | Loss: 0.0015 | Episodes: 42 | Win rate: 0.969 | Time: 8.39 minutes\n",
      "Epoch: 105/15000 | Loss: 0.0012 | Episodes: 7 | Win rate: 0.969 | Time: 8.41 minutes\n",
      "Epoch: 106/15000 | Loss: 0.0006 | Episodes: 27 | Win rate: 0.969 | Time: 8.45 minutes\n",
      "Epoch: 107/15000 | Loss: 0.0006 | Episodes: 0 | Win rate: 0.969 | Time: 8.45 minutes\n",
      "Epoch: 108/15000 | Loss: 0.0006 | Episodes: 128 | Win rate: 0.938 | Time: 8.67 minutes\n",
      "Epoch: 109/15000 | Loss: 0.0035 | Episodes: 10 | Win rate: 0.938 | Time: 8.69 minutes\n",
      "Epoch: 110/15000 | Loss: 0.0012 | Episodes: 25 | Win rate: 0.938 | Time: 8.73 minutes\n",
      "Epoch: 111/15000 | Loss: 0.0002 | Episodes: 23 | Win rate: 0.938 | Time: 8.78 minutes\n",
      "Epoch: 112/15000 | Loss: 0.0004 | Episodes: 40 | Win rate: 0.938 | Time: 8.86 minutes\n",
      "Epoch: 113/15000 | Loss: 0.0012 | Episodes: 30 | Win rate: 0.938 | Time: 8.92 minutes\n",
      "Epoch: 114/15000 | Loss: 0.0008 | Episodes: 45 | Win rate: 0.938 | Time: 9.00 minutes\n",
      "Epoch: 115/15000 | Loss: 0.0022 | Episodes: 18 | Win rate: 0.938 | Time: 9.02 minutes\n",
      "Epoch: 116/15000 | Loss: 0.0009 | Episodes: 30 | Win rate: 0.938 | Time: 9.08 minutes\n",
      "Epoch: 117/15000 | Loss: 0.0009 | Episodes: 28 | Win rate: 0.938 | Time: 9.12 minutes\n",
      "Epoch: 118/15000 | Loss: 0.0008 | Episodes: 24 | Win rate: 0.938 | Time: 9.17 minutes\n",
      "Epoch: 119/15000 | Loss: 0.0003 | Episodes: 8 | Win rate: 0.938 | Time: 9.18 minutes\n",
      "Epoch: 120/15000 | Loss: 0.0010 | Episodes: 36 | Win rate: 0.938 | Time: 9.24 minutes\n",
      "Epoch: 121/15000 | Loss: 0.0005 | Episodes: 26 | Win rate: 0.938 | Time: 9.28 minutes\n",
      "Epoch: 122/15000 | Loss: 0.0005 | Episodes: 7 | Win rate: 0.969 | Time: 9.30 minutes\n",
      "Epoch: 123/15000 | Loss: 0.0004 | Episodes: 14 | Win rate: 0.969 | Time: 9.32 minutes\n",
      "Epoch: 124/15000 | Loss: 0.0002 | Episodes: 3 | Win rate: 0.969 | Time: 9.32 minutes\n",
      "Epoch: 125/15000 | Loss: 0.0006 | Episodes: 18 | Win rate: 0.969 | Time: 9.36 minutes\n",
      "Epoch: 126/15000 | Loss: 0.0006 | Episodes: 36 | Win rate: 0.969 | Time: 9.41 minutes\n",
      "Epoch: 127/15000 | Loss: 0.0004 | Episodes: 1 | Win rate: 0.969 | Time: 9.41 minutes\n",
      "Epoch: 128/15000 | Loss: 0.0004 | Episodes: 41 | Win rate: 0.969 | Time: 9.46 minutes\n",
      "Epoch: 129/15000 | Loss: 0.0005 | Episodes: 29 | Win rate: 0.969 | Time: 9.51 minutes\n",
      "Epoch: 130/15000 | Loss: 0.0002 | Episodes: 7 | Win rate: 0.969 | Time: 9.52 minutes\n",
      "Epoch: 131/15000 | Loss: 0.0005 | Episodes: 2 | Win rate: 0.969 | Time: 9.52 minutes\n",
      "Epoch: 132/15000 | Loss: 0.0005 | Episodes: 16 | Win rate: 0.969 | Time: 9.54 minutes\n",
      "Epoch: 133/15000 | Loss: 0.0005 | Episodes: 10 | Win rate: 0.969 | Time: 9.56 minutes\n",
      "Epoch: 134/15000 | Loss: 0.0007 | Episodes: 10 | Win rate: 0.969 | Time: 9.58 minutes\n",
      "Epoch: 135/15000 | Loss: 0.0006 | Episodes: 17 | Win rate: 0.969 | Time: 9.61 minutes\n",
      "Epoch: 136/15000 | Loss: 0.0007 | Episodes: 30 | Win rate: 0.969 | Time: 9.66 minutes\n",
      "Epoch: 137/15000 | Loss: 0.0006 | Episodes: 20 | Win rate: 0.969 | Time: 9.69 minutes\n",
      "Epoch: 138/15000 | Loss: 0.0002 | Episodes: 29 | Win rate: 0.969 | Time: 9.74 minutes\n",
      "Epoch: 139/15000 | Loss: 0.0007 | Episodes: 30 | Win rate: 0.969 | Time: 9.80 minutes\n",
      "Epoch: 140/15000 | Loss: 0.0010 | Episodes: 12 | Win rate: 1.000 | Time: 9.82 minutes\n",
      "Epoch: 141/15000 | Loss: 0.0003 | Episodes: 29 | Win rate: 1.000 | Time: 9.87 minutes\n",
      "Epoch: 142/15000 | Loss: 0.0014 | Episodes: 8 | Win rate: 1.000 | Time: 9.89 minutes\n",
      "Epoch: 143/15000 | Loss: 0.0006 | Episodes: 26 | Win rate: 1.000 | Time: 9.93 minutes\n",
      "Epoch: 144/15000 | Loss: 0.0006 | Episodes: 38 | Win rate: 1.000 | Time: 10.00 minutes\n",
      "Epoch: 145/15000 | Loss: 0.0002 | Episodes: 22 | Win rate: 1.000 | Time: 10.04 minutes\n",
      "Epoch: 146/15000 | Loss: 0.0004 | Episodes: 26 | Win rate: 1.000 | Time: 10.09 minutes\n",
      "Epoch: 147/15000 | Loss: 0.0004 | Episodes: 4 | Win rate: 1.000 | Time: 10.09 minutes\n",
      "Epoch: 148/15000 | Loss: 0.0003 | Episodes: 13 | Win rate: 1.000 | Time: 10.12 minutes\n",
      "Epoch: 149/15000 | Loss: 0.0001 | Episodes: 30 | Win rate: 1.000 | Time: 10.17 minutes\n",
      "Epoch: 150/15000 | Loss: 0.0004 | Episodes: 12 | Win rate: 1.000 | Time: 10.19 minutes\n",
      "Epoch: 151/15000 | Loss: 0.0003 | Episodes: 20 | Win rate: 1.000 | Time: 10.23 minutes\n",
      "Epoch: 152/15000 | Loss: 0.0004 | Episodes: 26 | Win rate: 1.000 | Time: 10.27 minutes\n",
      "Epoch: 153/15000 | Loss: 0.0001 | Episodes: 41 | Win rate: 1.000 | Time: 10.34 minutes\n",
      "Epoch: 154/15000 | Loss: 0.0000 | Episodes: 21 | Win rate: 1.000 | Time: 10.37 minutes\n",
      "Epoch: 155/15000 | Loss: 0.0003 | Episodes: 71 | Win rate: 1.000 | Time: 10.48 minutes\n",
      "Epoch: 156/15000 | Loss: 0.0003 | Episodes: 35 | Win rate: 1.000 | Time: 10.54 minutes\n",
      "Epoch: 157/15000 | Loss: 0.0004 | Episodes: 1 | Win rate: 1.000 | Time: 10.55 minutes\n",
      "Epoch: 158/15000 | Loss: 0.0005 | Episodes: 8 | Win rate: 1.000 | Time: 10.56 minutes\n",
      "Epoch: 159/15000 | Loss: 0.0002 | Episodes: 23 | Win rate: 1.000 | Time: 10.61 minutes\n",
      "Epoch: 160/15000 | Loss: 0.0001 | Episodes: 18 | Win rate: 1.000 | Time: 10.64 minutes\n",
      "Epoch: 161/15000 | Loss: 0.0005 | Episodes: 31 | Win rate: 1.000 | Time: 10.68 minutes\n",
      "Epoch: 162/15000 | Loss: 0.0001 | Episodes: 35 | Win rate: 1.000 | Time: 10.73 minutes\n",
      "Epoch: 163/15000 | Loss: 0.0007 | Episodes: 11 | Win rate: 1.000 | Time: 10.75 minutes\n",
      "Epoch: 164/15000 | Loss: 0.0007 | Episodes: 5 | Win rate: 1.000 | Time: 10.76 minutes\n",
      "Epoch: 165/15000 | Loss: 0.0002 | Episodes: 29 | Win rate: 1.000 | Time: 10.81 minutes\n",
      "Epoch: 166/15000 | Loss: 0.0002 | Episodes: 3 | Win rate: 1.000 | Time: 10.82 minutes\n",
      "Epoch: 167/15000 | Loss: 0.0003 | Episodes: 5 | Win rate: 1.000 | Time: 10.83 minutes\n",
      "Epoch: 168/15000 | Loss: 0.0006 | Episodes: 12 | Win rate: 1.000 | Time: 10.85 minutes\n",
      "Epoch: 169/15000 | Loss: 0.0003 | Episodes: 9 | Win rate: 1.000 | Time: 10.87 minutes\n",
      "Epoch: 170/15000 | Loss: 0.0008 | Episodes: 55 | Win rate: 1.000 | Time: 10.95 minutes\n",
      "Epoch: 171/15000 | Loss: 0.0004 | Episodes: 10 | Win rate: 1.000 | Time: 10.97 minutes\n",
      "Epoch: 172/15000 | Loss: 0.0008 | Episodes: 1 | Win rate: 1.000 | Time: 10.97 minutes\n",
      "Epoch: 173/15000 | Loss: 0.0002 | Episodes: 131 | Win rate: 0.969 | Time: 11.18 minutes\n",
      "Epoch: 174/15000 | Loss: 0.0006 | Episodes: 28 | Win rate: 0.969 | Time: 11.24 minutes\n",
      "Epoch: 175/15000 | Loss: 0.0006 | Episodes: 25 | Win rate: 0.969 | Time: 11.28 minutes\n",
      "Epoch: 176/15000 | Loss: 0.0003 | Episodes: 16 | Win rate: 0.969 | Time: 11.30 minutes\n",
      "Epoch: 177/15000 | Loss: 0.0004 | Episodes: 23 | Win rate: 0.969 | Time: 11.34 minutes\n",
      "Epoch: 178/15000 | Loss: 0.0006 | Episodes: 21 | Win rate: 0.969 | Time: 11.38 minutes\n",
      "Epoch: 179/15000 | Loss: 0.0007 | Episodes: 17 | Win rate: 0.969 | Time: 11.41 minutes\n",
      "Epoch: 180/15000 | Loss: 0.0011 | Episodes: 25 | Win rate: 0.969 | Time: 11.45 minutes\n",
      "Epoch: 181/15000 | Loss: 0.0003 | Episodes: 20 | Win rate: 0.969 | Time: 11.48 minutes\n",
      "Epoch: 182/15000 | Loss: 0.0006 | Episodes: 28 | Win rate: 0.969 | Time: 11.52 minutes\n",
      "Epoch: 183/15000 | Loss: 0.0002 | Episodes: 29 | Win rate: 0.969 | Time: 11.56 minutes\n",
      "Epoch: 184/15000 | Loss: 0.0002 | Episodes: 10 | Win rate: 0.969 | Time: 11.58 minutes\n",
      "Epoch: 185/15000 | Loss: 0.0003 | Episodes: 26 | Win rate: 0.969 | Time: 11.62 minutes\n",
      "Epoch: 186/15000 | Loss: 0.0003 | Episodes: 8 | Win rate: 0.969 | Time: 11.63 minutes\n",
      "Epoch: 187/15000 | Loss: 0.0007 | Episodes: 8 | Win rate: 0.969 | Time: 11.64 minutes\n",
      "Epoch: 188/15000 | Loss: 0.0007 | Episodes: 31 | Win rate: 0.969 | Time: 11.69 minutes\n",
      "Epoch: 189/15000 | Loss: 0.0004 | Episodes: 13 | Win rate: 0.969 | Time: 11.71 minutes\n",
      "Epoch: 190/15000 | Loss: 0.0002 | Episodes: 20 | Win rate: 0.969 | Time: 11.74 minutes\n",
      "Epoch: 191/15000 | Loss: 0.0002 | Episodes: 0 | Win rate: 0.969 | Time: 11.74 minutes\n",
      "Epoch: 192/15000 | Loss: 0.0007 | Episodes: 16 | Win rate: 0.969 | Time: 11.76 minutes\n",
      "Epoch: 193/15000 | Loss: 0.0010 | Episodes: 16 | Win rate: 0.969 | Time: 11.79 minutes\n",
      "Epoch: 194/15000 | Loss: 0.0004 | Episodes: 24 | Win rate: 0.969 | Time: 11.82 minutes\n",
      "Epoch: 195/15000 | Loss: 0.0023 | Episodes: 16 | Win rate: 0.969 | Time: 11.85 minutes\n",
      "Epoch: 196/15000 | Loss: 0.0009 | Episodes: 28 | Win rate: 0.969 | Time: 11.89 minutes\n",
      "Epoch: 197/15000 | Loss: 0.0010 | Episodes: 7 | Win rate: 0.969 | Time: 11.90 minutes\n",
      "Epoch: 198/15000 | Loss: 0.0004 | Episodes: 30 | Win rate: 0.969 | Time: 11.95 minutes\n",
      "Epoch: 199/15000 | Loss: 0.0004 | Episodes: 26 | Win rate: 0.969 | Time: 12.00 minutes\n",
      "Epoch: 200/15000 | Loss: 0.0003 | Episodes: 32 | Win rate: 0.969 | Time: 12.06 minutes\n",
      "Epoch: 201/15000 | Loss: 0.0005 | Episodes: 9 | Win rate: 0.969 | Time: 12.07 minutes\n",
      "Epoch: 202/15000 | Loss: 0.0007 | Episodes: 23 | Win rate: 0.969 | Time: 12.11 minutes\n",
      "Epoch: 203/15000 | Loss: 0.0008 | Episodes: 6 | Win rate: 0.969 | Time: 12.12 minutes\n",
      "Epoch: 204/15000 | Loss: 0.0005 | Episodes: 30 | Win rate: 0.969 | Time: 12.18 minutes\n",
      "Epoch: 205/15000 | Loss: 0.0003 | Episodes: 4 | Win rate: 1.000 | Time: 12.19 minutes\n",
      "Epoch: 206/15000 | Loss: 0.0003 | Episodes: 23 | Win rate: 1.000 | Time: 12.23 minutes\n",
      "Epoch: 207/15000 | Loss: 0.0005 | Episodes: 10 | Win rate: 1.000 | Time: 12.25 minutes\n",
      "Epoch: 208/15000 | Loss: 0.0008 | Episodes: 37 | Win rate: 1.000 | Time: 12.32 minutes\n",
      "Epoch: 209/15000 | Loss: 0.0007 | Episodes: 1 | Win rate: 1.000 | Time: 12.33 minutes\n",
      "Epoch: 210/15000 | Loss: 0.0007 | Episodes: 2 | Win rate: 1.000 | Time: 12.34 minutes\n",
      "Epoch: 211/15000 | Loss: 0.0006 | Episodes: 18 | Win rate: 1.000 | Time: 12.38 minutes\n",
      "Epoch: 212/15000 | Loss: 0.0006 | Episodes: 9 | Win rate: 1.000 | Time: 12.40 minutes\n",
      "Epoch: 213/15000 | Loss: 0.0004 | Episodes: 2 | Win rate: 1.000 | Time: 12.40 minutes\n",
      "Epoch: 214/15000 | Loss: 0.0002 | Episodes: 33 | Win rate: 1.000 | Time: 12.48 minutes\n",
      "Epoch: 215/15000 | Loss: 0.0002 | Episodes: 8 | Win rate: 1.000 | Time: 12.50 minutes\n",
      "Epoch: 216/15000 | Loss: 0.0008 | Episodes: 26 | Win rate: 1.000 | Time: 12.55 minutes\n",
      "Epoch: 217/15000 | Loss: 0.0002 | Episodes: 33 | Win rate: 1.000 | Time: 12.63 minutes\n",
      "Epoch: 218/15000 | Loss: 0.0006 | Episodes: 21 | Win rate: 1.000 | Time: 12.67 minutes\n",
      "Epoch: 219/15000 | Loss: 0.0007 | Episodes: 27 | Win rate: 1.000 | Time: 12.72 minutes\n",
      "Epoch: 220/15000 | Loss: 0.0006 | Episodes: 5 | Win rate: 1.000 | Time: 12.75 minutes\n",
      "Epoch: 221/15000 | Loss: 0.0008 | Episodes: 6 | Win rate: 1.000 | Time: 12.77 minutes\n",
      "Epoch: 222/15000 | Loss: 0.0011 | Episodes: 11 | Win rate: 1.000 | Time: 12.80 minutes\n",
      "Epoch: 223/15000 | Loss: 0.0004 | Episodes: 8 | Win rate: 1.000 | Time: 12.82 minutes\n",
      "Epoch: 224/15000 | Loss: 0.0009 | Episodes: 21 | Win rate: 1.000 | Time: 12.86 minutes\n",
      "Epoch: 225/15000 | Loss: 0.0003 | Episodes: 3 | Win rate: 1.000 | Time: 12.87 minutes\n",
      "Epoch: 226/15000 | Loss: 0.0008 | Episodes: 30 | Win rate: 1.000 | Time: 12.94 minutes\n",
      "Epoch: 227/15000 | Loss: 0.0014 | Episodes: 28 | Win rate: 1.000 | Time: 13.00 minutes\n",
      "Epoch: 228/15000 | Loss: 0.0004 | Episodes: 3 | Win rate: 1.000 | Time: 13.01 minutes\n",
      "Epoch: 229/15000 | Loss: 0.0003 | Episodes: 20 | Win rate: 1.000 | Time: 13.05 minutes\n",
      "Epoch: 230/15000 | Loss: 0.0001 | Episodes: 4 | Win rate: 1.000 | Time: 13.06 minutes\n",
      "Epoch: 231/15000 | Loss: 0.0003 | Episodes: 35 | Win rate: 1.000 | Time: 13.13 minutes\n",
      "Epoch: 232/15000 | Loss: 0.0004 | Episodes: 11 | Win rate: 1.000 | Time: 13.16 minutes\n",
      "Epoch: 233/15000 | Loss: 0.0007 | Episodes: 30 | Win rate: 1.000 | Time: 13.23 minutes\n",
      "Epoch: 234/15000 | Loss: 0.0006 | Episodes: 5 | Win rate: 1.000 | Time: 13.24 minutes\n",
      "Epoch: 235/15000 | Loss: 0.0005 | Episodes: 14 | Win rate: 1.000 | Time: 13.27 minutes\n",
      "Epoch: 236/15000 | Loss: 0.0003 | Episodes: 13 | Win rate: 1.000 | Time: 13.30 minutes\n",
      "Epoch: 237/15000 | Loss: 0.0003 | Episodes: 0 | Win rate: 1.000 | Time: 13.31 minutes\n",
      "Epoch: 238/15000 | Loss: 0.0005 | Episodes: 7 | Win rate: 1.000 | Time: 13.33 minutes\n",
      "Epoch: 239/15000 | Loss: 0.0009 | Episodes: 6 | Win rate: 1.000 | Time: 13.34 minutes\n",
      "Epoch: 240/15000 | Loss: 0.0003 | Episodes: 23 | Win rate: 1.000 | Time: 13.39 minutes\n",
      "Epoch: 241/15000 | Loss: 0.0008 | Episodes: 32 | Win rate: 1.000 | Time: 13.45 minutes\n",
      "Epoch: 242/15000 | Loss: 0.0003 | Episodes: 29 | Win rate: 1.000 | Time: 13.51 minutes\n",
      "Epoch: 243/15000 | Loss: 0.0003 | Episodes: 28 | Win rate: 1.000 | Time: 13.56 minutes\n",
      "Epoch: 244/15000 | Loss: 0.0006 | Episodes: 5 | Win rate: 1.000 | Time: 13.58 minutes\n",
      "Epoch: 245/15000 | Loss: 0.0006 | Episodes: 5 | Win rate: 1.000 | Time: 13.60 minutes\n",
      "Epoch: 246/15000 | Loss: 0.0002 | Episodes: 27 | Win rate: 1.000 | Time: 13.65 minutes\n",
      "Epoch: 247/15000 | Loss: 0.0002 | Episodes: 24 | Win rate: 1.000 | Time: 13.69 minutes\n",
      "Epoch: 248/15000 | Loss: 0.0001 | Episodes: 3 | Win rate: 1.000 | Time: 13.71 minutes\n",
      "Epoch: 249/15000 | Loss: 0.0001 | Episodes: 6 | Win rate: 1.000 | Time: 13.73 minutes\n",
      "Epoch: 250/15000 | Loss: 0.0001 | Episodes: 14 | Win rate: 1.000 | Time: 13.78 minutes\n",
      "Epoch: 251/15000 | Loss: 0.0004 | Episodes: 7 | Win rate: 1.000 | Time: 13.82 minutes\n",
      "Epoch: 252/15000 | Loss: 0.0003 | Episodes: 2 | Win rate: 1.000 | Time: 13.83 minutes\n",
      "Epoch: 253/15000 | Loss: 0.0006 | Episodes: 6 | Win rate: 1.000 | Time: 13.86 minutes\n",
      "Epoch: 254/15000 | Loss: 0.0003 | Episodes: 30 | Win rate: 1.000 | Time: 13.91 minutes\n",
      "Epoch: 255/15000 | Loss: 0.0001 | Episodes: 23 | Win rate: 1.000 | Time: 13.95 minutes\n",
      "Epoch: 256/15000 | Loss: 0.0011 | Episodes: 21 | Win rate: 1.000 | Time: 13.99 minutes\n",
      "Epoch: 257/15000 | Loss: 0.0001 | Episodes: 22 | Win rate: 1.000 | Time: 14.03 minutes\n",
      "Reached 100% win rate at epoch 257\n",
      "Training completed in: 14.04 minutes\n"
     ]
    },
    {
     "data": {
      "text/plain": [
       "842.633051"
      ]
     },
     "execution_count": 11,
     "metadata": {},
     "output_type": "execute_result"
    }
   ],
   "source": [
    "model = build_model(maze)\n",
    "qtrain(model, maze, epochs=1000, max_memory=8*maze.size, data_size=32)"
   ]
  },
  {
   "cell_type": "markdown",
   "metadata": {},
   "source": [
    "This cell will check to see if the model passes the completion check. Note: This could take several minutes."
   ]
  },
  {
   "cell_type": "code",
   "execution_count": 12,
   "metadata": {},
   "outputs": [
    {
     "data": {
      "text/plain": [
       "<matplotlib.image.AxesImage at 0x1c800139d48>"
      ]
     },
     "execution_count": 12,
     "metadata": {},
     "output_type": "execute_result"
    },
    {
     "data": {
      "image/png": "[encoded data removed]",
      "text/plain": [
       "<Figure size 432x288 with 1 Axes>"
      ]
     },
     "metadata": {
      "needs_background": "light"
     },
     "output_type": "display_data"
    }
   ],
   "source": [
    "completion_check(model, qmaze)\n",
    "show(qmaze)"
   ]
  },
  {
   "cell_type": "markdown",
   "metadata": {},
   "source": [
    "This cell will test your model for one game. It will start the pirate at the top-left corner and run play_game. The agent should find a path from the starting position to the target (treasure). The treasure is located in the bottom-right corner."
   ]
  },
  {
   "cell_type": "code",
   "execution_count": 13,
   "metadata": {},
   "outputs": [
    {
     "data": {
      "text/plain": [
       "<matplotlib.image.AxesImage at 0x1c800000d08>"
      ]
     },
     "execution_count": 13,
     "metadata": {},
     "output_type": "execute_result"
    },
    {
     "data": {
      "image/png": "[encoded data removed]",
      "text/plain": [
       "<Figure size 432x288 with 1 Axes>"
      ]
     },
     "metadata": {
      "needs_background": "light"
     },
     "output_type": "display_data"
    }
   ],
   "source": [
    "pirate_start = (0, 0)\n",
    "play_game(model, qmaze, pirate_start)\n",
    "show(qmaze)"
   ]
  },
  {
   "cell_type": "markdown",
   "metadata": {},
   "source": [
    "## Save and Submit Your Work\n",
    "After you have finished creating the code for your notebook, save your work. Make sure that your notebook contains your name in the filename (e.g. Doe_Jane_ProjectTwo.ipynb). This will help your instructor access and grade your work easily. Download a copy of your IPYNB file and submit it to Brightspace. Refer to the Jupyter Notebook in Apporto Tutorial if you need help with these tasks."
   ]
  }
 ],
 "metadata": {
  "kernelspec": {
   "display_name": "Python 3",
   "language": "python",
   "name": "python3"
  },
  "language_info": {
   "codemirror_mode": {
    "name": "ipython",
    "version": 3
   },
   "file_extension": ".py",
   "mimetype": "text/x-python",
   "name": "python",
   "nbconvert_exporter": "python",
   "pygments_lexer": "ipython3",
   "version": "3.7.4"
  }
 },
 "nbformat": 4,
 "nbformat_minor": 2
}
